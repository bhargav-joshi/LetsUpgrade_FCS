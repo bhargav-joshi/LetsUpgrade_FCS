{
  "nbformat": 4,
  "nbformat_minor": 0,
  "metadata": {
    "colab": {
      "name": "DAY 2 - Bhargav Joshi.ipynb",
      "provenance": [],
      "collapsed_sections": [],
      "authorship_tag": "ABX9TyPLcMi6ESxCE5J08Xpsv/qR",
      "include_colab_link": true
    },
    "kernelspec": {
      "name": "python3",
      "display_name": "Python 3"
    }
  },
  "cells": [
    {
      "cell_type": "markdown",
      "metadata": {
        "id": "view-in-github",
        "colab_type": "text"
      },
      "source": [
        "<a href=\"https://colab.research.google.com/github/bhargav-joshi/LetsUpgrade_FCS/blob/master/DAY_2_Bhargav_Joshi.ipynb\" target=\"_parent\"><img src=\"https://colab.research.google.com/assets/colab-badge.svg\" alt=\"Open In Colab\"/></a>"
      ]
    },
    {
      "cell_type": "markdown",
      "metadata": {
        "id": "hVSE4LkYLQvK",
        "colab_type": "text"
      },
      "source": [
        "# **Assignment Day 2 | 2nd June 2020**\n",
        "   * By Bhargav Joshi (bhargavjoshi55@gmail.com)\n",
        "---\n",
        "\n"
      ]
    },
    {
      "cell_type": "markdown",
      "metadata": {
        "id": "CCa1bs-oLypD",
        "colab_type": "text"
      },
      "source": [
        "## **List and its default functions**\n",
        "\n"
      ]
    },
    {
      "cell_type": "markdown",
      "metadata": {
        "id": "Zp3OGqroOUmH",
        "colab_type": "text"
      },
      "source": [
        "#### List are a collection of objects which are bundled together in an indexed manner, where any kind of object can be stored inside list,\n",
        "#### *A list is a collection which is ordered and changeable. In Python lists are written with square brackets.*\n",
        "#### for example, a Menu Card list of Differnt food items."
      ]
    },
    {
      "cell_type": "code",
      "metadata": {
        "id": "WUIYDqs2OZh4",
        "colab_type": "code",
        "colab": {
          "base_uri": "https://localhost:8080/",
          "height": 34
        },
        "outputId": "1c7100f1-5396-418f-fdf6-05ca090788fe"
      },
      "source": [
        "# Eg-\n",
        "MenuCard = [\"Pizza\", \"Burger\", \"Sandwitch\"]\n",
        "MenuCard.insert(1, \"Pasta\")\n",
        "print(MenuCard)"
      ],
      "execution_count": 6,
      "outputs": [
        {
          "output_type": "stream",
          "text": [
            "['Pizza', 'Pasta', 'Burger', 'Sandwitch']\n"
          ],
          "name": "stdout"
        }
      ]
    },
    {
      "cell_type": "markdown",
      "metadata": {
        "id": "1eSLxtTfPks_",
        "colab_type": "text"
      },
      "source": [
        "## **List default functions**\n",
        "\n",
        "* append()\t- Adds an element at the end of the list\n",
        "* clear()\t- Removes all the elements from the list\n",
        "* copy()\t- Returns a copy of the list\n",
        "* count()\t- Returns the number of elements with the specified value\n",
        "* extend()\t- Add the elements of a list to the end of the current list\n",
        "* index()\t- Returns the index of the first element with the specified value\n",
        "* insert()\t- Adds an element at the specified position\n",
        "* pop()\t- Removes the element at the specified position\n",
        "* remove()\t- Removes the item with the specified value\n",
        "* reverse()\t- Reverses the order of the list\n",
        "* sort()\t- Sorts the list"
      ]
    },
    {
      "cell_type": "code",
      "metadata": {
        "id": "MWVE2aa9Qh5Z",
        "colab_type": "code",
        "colab": {
          "base_uri": "https://localhost:8080/",
          "height": 34
        },
        "outputId": "bacee0b2-1778-45e5-a6d5-5f27c9194b0f"
      },
      "source": [
        "# Eg\n",
        "type(MenuCard)"
      ],
      "execution_count": 12,
      "outputs": [
        {
          "output_type": "execute_result",
          "data": {
            "text/plain": [
              "list"
            ]
          },
          "metadata": {
            "tags": []
          },
          "execution_count": 12
        }
      ]
    },
    {
      "cell_type": "code",
      "metadata": {
        "id": "hflbaGuEQtoT",
        "colab_type": "code",
        "colab": {
          "base_uri": "https://localhost:8080/",
          "height": 34
        },
        "outputId": "4658d40b-221a-403b-8fc0-b2586fb43057"
      },
      "source": [
        "MenuCard.pop()"
      ],
      "execution_count": 13,
      "outputs": [
        {
          "output_type": "execute_result",
          "data": {
            "text/plain": [
              "'Sandwitch'"
            ]
          },
          "metadata": {
            "tags": []
          },
          "execution_count": 13
        }
      ]
    },
    {
      "cell_type": "code",
      "metadata": {
        "id": "EJ309XkGRXbC",
        "colab_type": "code",
        "colab": {}
      },
      "source": [
        "MenuCard.sort()"
      ],
      "execution_count": 0,
      "outputs": []
    },
    {
      "cell_type": "code",
      "metadata": {
        "id": "uwJVZXYpRbEz",
        "colab_type": "code",
        "colab": {
          "base_uri": "https://localhost:8080/",
          "height": 34
        },
        "outputId": "daf469ac-a841-477e-a28f-6aae2cf484ac"
      },
      "source": [
        "print(MenuCard)"
      ],
      "execution_count": 15,
      "outputs": [
        {
          "output_type": "stream",
          "text": [
            "['Burger', 'Pasta', 'Pizza']\n"
          ],
          "name": "stdout"
        }
      ]
    },
    {
      "cell_type": "code",
      "metadata": {
        "id": "9zIyEh-nRdmj",
        "colab_type": "code",
        "colab": {
          "base_uri": "https://localhost:8080/",
          "height": 34
        },
        "outputId": "60e0895d-638d-4990-d24d-c86236dd0710"
      },
      "source": [
        "MenuCard.copy()"
      ],
      "execution_count": 16,
      "outputs": [
        {
          "output_type": "execute_result",
          "data": {
            "text/plain": [
              "['Burger', 'Pasta', 'Pizza']"
            ]
          },
          "metadata": {
            "tags": []
          },
          "execution_count": 16
        }
      ]
    },
    {
      "cell_type": "code",
      "metadata": {
        "id": "V24jDvDiTXRp",
        "colab_type": "code",
        "colab": {}
      },
      "source": [
        "MenuCard.reverse()"
      ],
      "execution_count": 0,
      "outputs": []
    },
    {
      "cell_type": "code",
      "metadata": {
        "id": "aclNF0LwTccR",
        "colab_type": "code",
        "colab": {
          "base_uri": "https://localhost:8080/",
          "height": 34
        },
        "outputId": "55e0ad7f-91af-45c9-ae9d-839f35fb689e"
      },
      "source": [
        "print(MenuCard)"
      ],
      "execution_count": 19,
      "outputs": [
        {
          "output_type": "stream",
          "text": [
            "['Pizza', 'Pasta', 'Burger']\n"
          ],
          "name": "stdout"
        }
      ]
    },
    {
      "cell_type": "code",
      "metadata": {
        "id": "FERnMxk3Us5J",
        "colab_type": "code",
        "colab": {
          "base_uri": "https://localhost:8080/",
          "height": 34
        },
        "outputId": "2c538678-337f-41da-f02a-78bfe8ddddb9"
      },
      "source": [
        "MenuCard[2][0]"
      ],
      "execution_count": 20,
      "outputs": [
        {
          "output_type": "execute_result",
          "data": {
            "text/plain": [
              "'B'"
            ]
          },
          "metadata": {
            "tags": []
          },
          "execution_count": 20
        }
      ]
    },
    {
      "cell_type": "code",
      "metadata": {
        "id": "7qp1yeWaU2bJ",
        "colab_type": "code",
        "colab": {
          "base_uri": "https://localhost:8080/",
          "height": 34
        },
        "outputId": "b1d2ff08-6303-4abf-afc9-6a5c155df145"
      },
      "source": [
        "MenuCard[-1]"
      ],
      "execution_count": 21,
      "outputs": [
        {
          "output_type": "execute_result",
          "data": {
            "text/plain": [
              "'Burger'"
            ]
          },
          "metadata": {
            "tags": []
          },
          "execution_count": 21
        }
      ]
    },
    {
      "cell_type": "code",
      "metadata": {
        "id": "C2a_gXGzU-vq",
        "colab_type": "code",
        "colab": {}
      },
      "source": [
        "MenuCard = [\"Pizza\", \"Burger\", \"Sandwitch\",\"Samosa\", \"VadaPav\", \"Kachori\", \"Bhel\", \"Misal\"]  # Updated List with same name"
      ],
      "execution_count": 0,
      "outputs": []
    },
    {
      "cell_type": "code",
      "metadata": {
        "id": "HCllKQQQU-5g",
        "colab_type": "code",
        "colab": {
          "base_uri": "https://localhost:8080/",
          "height": 153
        },
        "outputId": "22835440-0ace-4450-def8-8b296c61d219"
      },
      "source": [
        "MenuCard"
      ],
      "execution_count": 27,
      "outputs": [
        {
          "output_type": "execute_result",
          "data": {
            "text/plain": [
              "['Pizza',\n",
              " 'Burger',\n",
              " 'Sandwitch',\n",
              " 'Samosa',\n",
              " 'VadaPav',\n",
              " 'Kachori',\n",
              " 'Bhel',\n",
              " 'Misal']"
            ]
          },
          "metadata": {
            "tags": []
          },
          "execution_count": 27
        }
      ]
    },
    {
      "cell_type": "code",
      "metadata": {
        "id": "8wCxidzLV8Jn",
        "colab_type": "code",
        "colab": {
          "base_uri": "https://localhost:8080/",
          "height": 153
        },
        "outputId": "0bd42f8a-9e58-4154-cd54-445255c57786"
      },
      "source": [
        "MenuCard[::-1]"
      ],
      "execution_count": 28,
      "outputs": [
        {
          "output_type": "execute_result",
          "data": {
            "text/plain": [
              "['Misal',\n",
              " 'Bhel',\n",
              " 'Kachori',\n",
              " 'VadaPav',\n",
              " 'Samosa',\n",
              " 'Sandwitch',\n",
              " 'Burger',\n",
              " 'Pizza']"
            ]
          },
          "metadata": {
            "tags": []
          },
          "execution_count": 28
        }
      ]
    },
    {
      "cell_type": "code",
      "metadata": {
        "id": "GFZOv5x5WAwI",
        "colab_type": "code",
        "colab": {
          "base_uri": "https://localhost:8080/",
          "height": 34
        },
        "outputId": "d4d3612f-f85a-4af5-fb74-876590994e1d"
      },
      "source": [
        "MenuCard.pop() #For deleting last element"
      ],
      "execution_count": 38,
      "outputs": [
        {
          "output_type": "execute_result",
          "data": {
            "text/plain": [
              "'Rice Plate'"
            ]
          },
          "metadata": {
            "tags": []
          },
          "execution_count": 38
        }
      ]
    },
    {
      "cell_type": "code",
      "metadata": {
        "id": "SErXnL6MWA2Q",
        "colab_type": "code",
        "colab": {
          "base_uri": "https://localhost:8080/",
          "height": 34
        },
        "outputId": "fa78dd9c-b72d-4f4f-f0da-184c0b616405"
      },
      "source": [
        "MenuCard[0:]"
      ],
      "execution_count": 39,
      "outputs": [
        {
          "output_type": "execute_result",
          "data": {
            "text/plain": [
              "['Pizza', 'Burger', 'Sandwitch', 'Samosa', 'VadaPav', 'Kachori', 'Bhel']"
            ]
          },
          "metadata": {
            "tags": []
          },
          "execution_count": 39
        }
      ]
    },
    {
      "cell_type": "code",
      "metadata": {
        "id": "8TxJwhLdWA5a",
        "colab_type": "code",
        "colab": {
          "base_uri": "https://localhost:8080/",
          "height": 34
        },
        "outputId": "07a1078a-249b-4c0e-9f28-97a15a546190"
      },
      "source": [
        "MenuCard[1:7] "
      ],
      "execution_count": 40,
      "outputs": [
        {
          "output_type": "execute_result",
          "data": {
            "text/plain": [
              "['Burger', 'Sandwitch', 'Samosa', 'VadaPav', 'Kachori', 'Bhel']"
            ]
          },
          "metadata": {
            "tags": []
          },
          "execution_count": 40
        }
      ]
    },
    {
      "cell_type": "code",
      "metadata": {
        "id": "_ASuC4SBWA-v",
        "colab_type": "code",
        "colab": {
          "base_uri": "https://localhost:8080/",
          "height": 34
        },
        "outputId": "899f5586-efdb-4873-9e15-101400cf4873"
      },
      "source": [
        "MenuCard[5] #For Specific Element "
      ],
      "execution_count": 41,
      "outputs": [
        {
          "output_type": "execute_result",
          "data": {
            "text/plain": [
              "'Kachori'"
            ]
          },
          "metadata": {
            "tags": []
          },
          "execution_count": 41
        }
      ]
    },
    {
      "cell_type": "code",
      "metadata": {
        "id": "sh8dQJTZWiQS",
        "colab_type": "code",
        "colab": {}
      },
      "source": [
        "MenuCard.append(\"Rice Plate\") # At the element is inserted"
      ],
      "execution_count": 0,
      "outputs": []
    },
    {
      "cell_type": "code",
      "metadata": {
        "id": "AgLqG_RJWn_s",
        "colab_type": "code",
        "colab": {
          "base_uri": "https://localhost:8080/",
          "height": 153
        },
        "outputId": "c3116285-c176-4868-83aa-ad08111b2b79"
      },
      "source": [
        "MenuCard"
      ],
      "execution_count": 43,
      "outputs": [
        {
          "output_type": "execute_result",
          "data": {
            "text/plain": [
              "['Pizza',\n",
              " 'Burger',\n",
              " 'Sandwitch',\n",
              " 'Samosa',\n",
              " 'VadaPav',\n",
              " 'Kachori',\n",
              " 'Bhel',\n",
              " 'Rice Plate']"
            ]
          },
          "metadata": {
            "tags": []
          },
          "execution_count": 43
        }
      ]
    },
    {
      "cell_type": "markdown",
      "metadata": {
        "id": "mxa4A9Q9TtIQ",
        "colab_type": "text"
      },
      "source": [
        "## **Dictionary & its default functions**\n"
      ]
    },
    {
      "cell_type": "markdown",
      "metadata": {
        "id": "l_FTvQY7TzxX",
        "colab_type": "text"
      },
      "source": [
        "#### **What is dictionary in Python?**\n",
        "        \n",
        " Python dictionary is an unordered collection of items. While other compound data types have only value as an element, a dictionary has a key: value pair.\n",
        "\n",
        "Dictionaries are optimized to retrieve values when the key is known.\n",
        "*   ***Used to store the data in key:value pairs***\n",
        "\n",
        "\n"
      ]
    },
    {
      "cell_type": "code",
      "metadata": {
        "id": "UVnPS_btT2df",
        "colab_type": "code",
        "colab": {}
      },
      "source": [
        "#Eg.\n",
        "dic = {'Math','English','Science'}"
      ],
      "execution_count": 0,
      "outputs": []
    },
    {
      "cell_type": "code",
      "metadata": {
        "id": "eJiOTwUgX7Hk",
        "colab_type": "code",
        "colab": {
          "base_uri": "https://localhost:8080/",
          "height": 34
        },
        "outputId": "f0236d4b-20c8-4e7e-d228-b14e8ea072df"
      },
      "source": [
        "dic"
      ],
      "execution_count": 46,
      "outputs": [
        {
          "output_type": "execute_result",
          "data": {
            "text/plain": [
              "{'English', 'Math', 'Science'}"
            ]
          },
          "metadata": {
            "tags": []
          },
          "execution_count": 46
        }
      ]
    },
    {
      "cell_type": "code",
      "metadata": {
        "id": "8ze2-bjCX8b_",
        "colab_type": "code",
        "colab": {
          "base_uri": "https://localhost:8080/",
          "height": 34
        },
        "outputId": "59a7b328-b456-4d15-d00f-f1ff2a054f90"
      },
      "source": [
        "bike = {\n",
        "  \"brand\": \"Suzuki\",\n",
        "  \"model\": \"Gixxer\",\n",
        "  \"year\": 2019,\n",
        "  \"Color\": \"Blue\"\n",
        "}\n",
        "print(bike)"
      ],
      "execution_count": 48,
      "outputs": [
        {
          "output_type": "stream",
          "text": [
            "{'brand': 'Suzuki', 'model': 'Gixxer', 'year': 2019, 'Color': 'Blue'}\n"
          ],
          "name": "stdout"
        }
      ]
    },
    {
      "cell_type": "code",
      "metadata": {
        "id": "1Ze0LslBYRr7",
        "colab_type": "code",
        "colab": {
          "base_uri": "https://localhost:8080/",
          "height": 34
        },
        "outputId": "65ab5faa-d077-422c-87e7-0474dc54a18d"
      },
      "source": [
        "bike.keys()"
      ],
      "execution_count": 52,
      "outputs": [
        {
          "output_type": "execute_result",
          "data": {
            "text/plain": [
              "dict_keys(['brand', 'model', 'year', 'Color'])"
            ]
          },
          "metadata": {
            "tags": []
          },
          "execution_count": 52
        }
      ]
    },
    {
      "cell_type": "code",
      "metadata": {
        "id": "xKnlTvMlYZ2V",
        "colab_type": "code",
        "colab": {
          "base_uri": "https://localhost:8080/",
          "height": 34
        },
        "outputId": "fd8ae4b9-4889-4f15-aa65-80ac124754b9"
      },
      "source": [
        "bike.items()"
      ],
      "execution_count": 54,
      "outputs": [
        {
          "output_type": "execute_result",
          "data": {
            "text/plain": [
              "dict_items([('brand', 'Suzuki'), ('model', 'Gixxer'), ('year', 2019), ('Color', 'Blue')])"
            ]
          },
          "metadata": {
            "tags": []
          },
          "execution_count": 54
        }
      ]
    },
    {
      "cell_type": "code",
      "metadata": {
        "id": "AvAB8bzdYq-H",
        "colab_type": "code",
        "colab": {
          "base_uri": "https://localhost:8080/",
          "height": 34
        },
        "outputId": "4ead0243-bf83-41bf-de2f-8d18dab724ed"
      },
      "source": [
        "bike.values()"
      ],
      "execution_count": 55,
      "outputs": [
        {
          "output_type": "execute_result",
          "data": {
            "text/plain": [
              "dict_values(['Suzuki', 'Gixxer', 2019, 'Blue'])"
            ]
          },
          "metadata": {
            "tags": []
          },
          "execution_count": 55
        }
      ]
    },
    {
      "cell_type": "markdown",
      "metadata": {
        "id": "XzA02_WhY6O-",
        "colab_type": "text"
      },
      "source": [
        "## **Dictionary default functions**"
      ]
    },
    {
      "cell_type": "markdown",
      "metadata": {
        "id": "HNUzQ-RBY1Bz",
        "colab_type": "text"
      },
      "source": [
        "* clear()\t - Remove all items form the dictionary.\n",
        "* copy()\t- Return a shallow copy of the dictionary.\n",
        "* fromkeys(seq[, v])\t- Return a new dictionary with keys from seq and value equal to v\n",
        "* get(key[,d])\t- Return the value of key. If key doesnot exit, return d (defaults to None).\n",
        "* items()\t - Return a new view of the dictionary's items (key, value).\n",
        "* keys()\t - Return a new view of the dictionary's keys.\n",
        "* pop(key[,d])\t- Remove the item with key and return its value \n",
        "* popitem()  - \tRemove and return an arbitary item (key, value).\n",
        "* setdefault(key[,d]) - \tIf key is in the dictionary, return its value. If not, insert key with a value of d and return d (defaults to None).\n",
        "* update([other]) - \tUpdate the dictionary with the key/value pairs from other, overwriting existing keys.\n",
        "* values()\t- Return a new view of the dictionary's values"
      ]
    },
    {
      "cell_type": "code",
      "metadata": {
        "id": "xyXKuyI0ZJbp",
        "colab_type": "code",
        "colab": {
          "base_uri": "https://localhost:8080/",
          "height": 34
        },
        "outputId": "30dcb7f6-4bde-49a2-db2e-c69b1a44e047"
      },
      "source": [
        "bike.copy()"
      ],
      "execution_count": 56,
      "outputs": [
        {
          "output_type": "execute_result",
          "data": {
            "text/plain": [
              "{'Color': 'Blue', 'brand': 'Suzuki', 'model': 'Gixxer', 'year': 2019}"
            ]
          },
          "metadata": {
            "tags": []
          },
          "execution_count": 56
        }
      ]
    },
    {
      "cell_type": "code",
      "metadata": {
        "id": "nuzTVT8yZfHb",
        "colab_type": "code",
        "colab": {
          "base_uri": "https://localhost:8080/",
          "height": 34
        },
        "outputId": "add4a65a-fe88-48cd-d1f6-3df5853c62f8"
      },
      "source": [
        "type(bike)"
      ],
      "execution_count": 57,
      "outputs": [
        {
          "output_type": "execute_result",
          "data": {
            "text/plain": [
              "dict"
            ]
          },
          "metadata": {
            "tags": []
          },
          "execution_count": 57
        }
      ]
    },
    {
      "cell_type": "code",
      "metadata": {
        "id": "Z3OLfA4_ZwfC",
        "colab_type": "code",
        "colab": {
          "base_uri": "https://localhost:8080/",
          "height": 34
        },
        "outputId": "85f6b6e9-bfc4-4f57-b930-fd4f175aff41"
      },
      "source": [
        "bike.keys()"
      ],
      "execution_count": 62,
      "outputs": [
        {
          "output_type": "execute_result",
          "data": {
            "text/plain": [
              "dict_keys(['brand', 'model', 'year', 'Color'])"
            ]
          },
          "metadata": {
            "tags": []
          },
          "execution_count": 62
        }
      ]
    },
    {
      "cell_type": "code",
      "metadata": {
        "id": "7HPF-EIGZ4tj",
        "colab_type": "code",
        "colab": {
          "base_uri": "https://localhost:8080/",
          "height": 34
        },
        "outputId": "2663e7c5-701d-4db8-dd2b-1a254912b72d"
      },
      "source": [
        "bike.popitem()"
      ],
      "execution_count": 65,
      "outputs": [
        {
          "output_type": "execute_result",
          "data": {
            "text/plain": [
              "('Color', 'Blue')"
            ]
          },
          "metadata": {
            "tags": []
          },
          "execution_count": 65
        }
      ]
    },
    {
      "cell_type": "code",
      "metadata": {
        "id": "OcS56_8TZ8Qt",
        "colab_type": "code",
        "colab": {
          "base_uri": "https://localhost:8080/",
          "height": 34
        },
        "outputId": "c63c982e-bf30-48dc-a031-0c656bbfb5eb"
      },
      "source": [
        "bike"
      ],
      "execution_count": 66,
      "outputs": [
        {
          "output_type": "execute_result",
          "data": {
            "text/plain": [
              "{'brand': 'Suzuki', 'model': 'Gixxer', 'year': 2019}"
            ]
          },
          "metadata": {
            "tags": []
          },
          "execution_count": 66
        }
      ]
    },
    {
      "cell_type": "markdown",
      "metadata": {
        "id": "_VibVIVraMmL",
        "colab_type": "text"
      },
      "source": [
        "# **Sets & its default functions**\n",
        "\n",
        "A Set is an unordered collection data type that is iterable, mutable and has no duplicate elements. Python set class represents the mathematical notion of a set."
      ]
    },
    {
      "cell_type": "code",
      "metadata": {
        "id": "96W_uiKVaTVn",
        "colab_type": "code",
        "colab": {}
      },
      "source": [
        "Set = set([\"a\", \"b\", \"c\"]) "
      ],
      "execution_count": 0,
      "outputs": []
    },
    {
      "cell_type": "code",
      "metadata": {
        "id": "N8DS9w2KaX8D",
        "colab_type": "code",
        "colab": {
          "base_uri": "https://localhost:8080/",
          "height": 34
        },
        "outputId": "5cb1c7be-b6ab-46bb-b54b-a7d4e2171fd6"
      },
      "source": [
        "print(\"Set: \") "
      ],
      "execution_count": 68,
      "outputs": [
        {
          "output_type": "stream",
          "text": [
            "Set: \n"
          ],
          "name": "stdout"
        }
      ]
    },
    {
      "cell_type": "code",
      "metadata": {
        "id": "KZUcvB1saZWh",
        "colab_type": "code",
        "colab": {
          "base_uri": "https://localhost:8080/",
          "height": 34
        },
        "outputId": "d021c614-ae74-45c8-f99b-781674595444"
      },
      "source": [
        "print(Set) "
      ],
      "execution_count": 69,
      "outputs": [
        {
          "output_type": "stream",
          "text": [
            "{'c', 'a', 'b'}\n"
          ],
          "name": "stdout"
        }
      ]
    },
    {
      "cell_type": "code",
      "metadata": {
        "id": "-72mTDU7abJI",
        "colab_type": "code",
        "colab": {}
      },
      "source": [
        "Set.add(\"d\") "
      ],
      "execution_count": 0,
      "outputs": []
    },
    {
      "cell_type": "code",
      "metadata": {
        "id": "nWsJSbFpaf4U",
        "colab_type": "code",
        "colab": {
          "base_uri": "https://localhost:8080/",
          "height": 34
        },
        "outputId": "d69a20ff-d75d-450f-df05-0f70aa08d695"
      },
      "source": [
        "print(Set) "
      ],
      "execution_count": 77,
      "outputs": [
        {
          "output_type": "stream",
          "text": [
            "{'c', 'a', 'd', 'b'}\n"
          ],
          "name": "stdout"
        }
      ]
    },
    {
      "cell_type": "code",
      "metadata": {
        "id": "elDEv-1Pau_d",
        "colab_type": "code",
        "colab": {
          "base_uri": "https://localhost:8080/",
          "height": 34
        },
        "outputId": "64d4f7d3-9c94-4ded-affc-3a0bed739011"
      },
      "source": [
        "Set.pop()"
      ],
      "execution_count": 78,
      "outputs": [
        {
          "output_type": "execute_result",
          "data": {
            "text/plain": [
              "'c'"
            ]
          },
          "metadata": {
            "tags": []
          },
          "execution_count": 78
        }
      ]
    },
    {
      "cell_type": "code",
      "metadata": {
        "id": "ZyPtE59fa0rZ",
        "colab_type": "code",
        "colab": {}
      },
      "source": [
        "Set.remove(\"a\")"
      ],
      "execution_count": 0,
      "outputs": []
    },
    {
      "cell_type": "code",
      "metadata": {
        "colab_type": "code",
        "outputId": "22166071-cc23-4492-baa6-302c37fd7d09",
        "id": "N4GvpGv_a8W_",
        "colab": {
          "base_uri": "https://localhost:8080/",
          "height": 34
        }
      },
      "source": [
        "print(Set) "
      ],
      "execution_count": 80,
      "outputs": [
        {
          "output_type": "stream",
          "text": [
            "{'d', 'b'}\n"
          ],
          "name": "stdout"
        }
      ]
    },
    {
      "cell_type": "markdown",
      "metadata": {
        "id": "Zu62bIKTbPHG",
        "colab_type": "text"
      },
      "source": [
        "# Sets Default Functions\n",
        "\n",
        "* Set remove() -     Removes Element from the Set\n",
        "* Set add() -     adds element to a set\n",
        "* Set copy() -  Returns Shallow Copy of a Set\n",
        "* Set clear() -    remove all elements from a set\n",
        "* Set difference() -      Returns Difference of Two Sets\n",
        "* Set difference_update()-     Updates Calling Set With Intersection of Sets\n",
        "* Set discard()  -  Removes an Element from The Set\n",
        "* Set intersection()-   Returns Intersection of Two or More Sets\n",
        "* Set intersection_update()   - Updates Calling Set With Intersection of Sets\n",
        "* Set isdisjoint()-  Checks Disjoint Sets\n",
        "* Set issubset() -  Checks if a Set is Subset of Another Set\n",
        "* Set issuperset()  -  Checks if a Set is Superset of Another Set\n",
        "* Set pop()   -   Removes an Arbitrary Element\n",
        "* Set symmetric_difference()  -  Returns the symmetric difference of sets\n",
        "* Set symmetric_difference_update()  - Updates the Set with symmetric  difference\n",
        "* Set union()   -  Returns the union of sets\n",
        "* Set update()   -  Add elements to the set\n"
      ]
    },
    {
      "cell_type": "code",
      "metadata": {
        "id": "N0H6vj-SbpQ1",
        "colab_type": "code",
        "colab": {
          "base_uri": "https://localhost:8080/",
          "height": 34
        },
        "outputId": "321ea34a-c574-4c77-ff06-73f953f7199a"
      },
      "source": [
        "type(Set)"
      ],
      "execution_count": 81,
      "outputs": [
        {
          "output_type": "execute_result",
          "data": {
            "text/plain": [
              "set"
            ]
          },
          "metadata": {
            "tags": []
          },
          "execution_count": 81
        }
      ]
    },
    {
      "cell_type": "code",
      "metadata": {
        "id": "cksw9xjKb0vb",
        "colab_type": "code",
        "colab": {
          "base_uri": "https://localhost:8080/",
          "height": 34
        },
        "outputId": "5ad12ae2-7014-4a1b-e607-f7b237679976"
      },
      "source": [
        "set1 = {\"a\", \"b\" , \"c\"}\n",
        "set2 = {1, 2, 3}\n",
        "\n",
        "set3 = set1.union(set2)\n",
        "print(set3)"
      ],
      "execution_count": 84,
      "outputs": [
        {
          "output_type": "stream",
          "text": [
            "{1, 2, 'a', 3, 'b', 'c'}\n"
          ],
          "name": "stdout"
        }
      ]
    },
    {
      "cell_type": "code",
      "metadata": {
        "id": "3Lksq7Vmb_tX",
        "colab_type": "code",
        "colab": {
          "base_uri": "https://localhost:8080/",
          "height": 34
        },
        "outputId": "124e4648-ae23-459f-d5d1-443109bd3fba"
      },
      "source": [
        "set1 = {\"a\", \"b\" , \"c\"}\n",
        "set2 = {1, 2, 3}\n",
        "\n",
        "set3 = set1.union(set2)\n",
        "print(set3)"
      ],
      "execution_count": 85,
      "outputs": [
        {
          "output_type": "stream",
          "text": [
            "{1, 2, 'a', 3, 'b', 'c'}\n"
          ],
          "name": "stdout"
        }
      ]
    },
    {
      "cell_type": "code",
      "metadata": {
        "id": "kSYLgjJecBOv",
        "colab_type": "code",
        "colab": {
          "base_uri": "https://localhost:8080/",
          "height": 34
        },
        "outputId": "c1d2ca01-660c-428c-f3e6-b682165e5f58"
      },
      "source": [
        "myset = {\"a\", \"b\", \"c\"}\n",
        "\n",
        "print(len(myset))"
      ],
      "execution_count": 86,
      "outputs": [
        {
          "output_type": "stream",
          "text": [
            "3\n"
          ],
          "name": "stdout"
        }
      ]
    },
    {
      "cell_type": "code",
      "metadata": {
        "id": "IHW_eYnScHwO",
        "colab_type": "code",
        "colab": {
          "base_uri": "https://localhost:8080/",
          "height": 34
        },
        "outputId": "db9535e3-0ca4-4f58-ce05-adf3b488d795"
      },
      "source": [
        "myset = {\"a\", \"b\", \"c\"}\n",
        "\n",
        "print(\"b\" in myset)"
      ],
      "execution_count": 87,
      "outputs": [
        {
          "output_type": "stream",
          "text": [
            "True\n"
          ],
          "name": "stdout"
        }
      ]
    },
    {
      "cell_type": "markdown",
      "metadata": {
        "id": "FNwq-mD2cSkP",
        "colab_type": "text"
      },
      "source": [
        "# **Tuple &  default methods**\n",
        "\n",
        "They are immutable collection of objects\n"
      ]
    },
    {
      "cell_type": "markdown",
      "metadata": {
        "id": "7zbTUsBucjt-",
        "colab_type": "text"
      },
      "source": [
        "*  Tuple count() - returns count of the element in the tuple\n",
        "\n",
        "*  Tuple index()-returns the index of the element in the tuple\n",
        "\n",
        "*  any() function-Checks if any Element of an Iterable is True\n",
        "\n",
        "*  all()-returns true when all elements in iterable is true\n",
        "\n",
        "*  ascii()-Returns String Containing Printable Representation\n",
        "\n",
        "*  bool()-Converts a Value to Boolean\n",
        "\n",
        "*  enumerate()-Returns an Enumerate Object\n",
        "\n",
        "*  filter()-constructs iterator from elements which are true\n",
        "\n",
        "*  iter()-returns an iterator\n",
        "\n",
        "*  len()-Returns Length of an Object\n",
        "\n",
        "*  max()-returns the largest item\n",
        "\n",
        "*  min()-returns the smallest value\n",
        "\n",
        "*  map()-Applies Function and Returns a List\n",
        "\n",
        "*  reversed()-returns the reversed iterator of a sequence\n",
        "\n",
        "*  slice()-returns a slice object\n",
        "\n",
        "*  sorted() function-returns a sorted list from the given iterable\n",
        "\n",
        "*  sum()-Adds items of an Iterable\n",
        "\n",
        "*  tuple() - Returns a tuple\n",
        "\n",
        "*  zip() - Returns an iterator of tuples"
      ]
    },
    {
      "cell_type": "code",
      "metadata": {
        "id": "38ZCf58McWJQ",
        "colab_type": "code",
        "colab": {}
      },
      "source": [
        "tup = (11,22,33,44,55,66,77,88,99,\"Bhargav\", \"Mumbai\", \"Lockdown\", \"Stayhome\")"
      ],
      "execution_count": 0,
      "outputs": []
    },
    {
      "cell_type": "code",
      "metadata": {
        "id": "2OSjS8mZdzQL",
        "colab_type": "code",
        "colab": {
          "base_uri": "https://localhost:8080/",
          "height": 238
        },
        "outputId": "fd6c1349-02ac-4f47-bdd1-e86b453f78ed"
      },
      "source": [
        "tup"
      ],
      "execution_count": 98,
      "outputs": [
        {
          "output_type": "execute_result",
          "data": {
            "text/plain": [
              "(11,\n",
              " 22,\n",
              " 33,\n",
              " 44,\n",
              " 55,\n",
              " 66,\n",
              " 77,\n",
              " 88,\n",
              " 99,\n",
              " 'Bhargav',\n",
              " 'Mumbai',\n",
              " 'Lockdown',\n",
              " 'Stayhome')"
            ]
          },
          "metadata": {
            "tags": []
          },
          "execution_count": 98
        }
      ]
    },
    {
      "cell_type": "code",
      "metadata": {
        "id": "-D8LV9ugd1IW",
        "colab_type": "code",
        "colab": {
          "base_uri": "https://localhost:8080/",
          "height": 34
        },
        "outputId": "a77a31a7-befd-4cfa-ac9d-3c2320c6e1d3"
      },
      "source": [
        "tup.index(11)"
      ],
      "execution_count": 91,
      "outputs": [
        {
          "output_type": "execute_result",
          "data": {
            "text/plain": [
              "0"
            ]
          },
          "metadata": {
            "tags": []
          },
          "execution_count": 91
        }
      ]
    },
    {
      "cell_type": "code",
      "metadata": {
        "id": "OmTDgpuzd2TB",
        "colab_type": "code",
        "colab": {
          "base_uri": "https://localhost:8080/",
          "height": 34
        },
        "outputId": "f741455c-af87-49b3-ac49-668ba8d250ee"
      },
      "source": [
        "tup.count(\"Bhargav\")"
      ],
      "execution_count": 94,
      "outputs": [
        {
          "output_type": "execute_result",
          "data": {
            "text/plain": [
              "1"
            ]
          },
          "metadata": {
            "tags": []
          },
          "execution_count": 94
        }
      ]
    },
    {
      "cell_type": "code",
      "metadata": {
        "id": "UbPht_7keMMt",
        "colab_type": "code",
        "colab": {}
      },
      "source": [
        "tupp = (11,22,33,44,55,66,77,88,99)"
      ],
      "execution_count": 0,
      "outputs": []
    },
    {
      "cell_type": "code",
      "metadata": {
        "id": "P3zwjkHzeZtx",
        "colab_type": "code",
        "colab": {
          "base_uri": "https://localhost:8080/",
          "height": 34
        },
        "outputId": "92b9b910-f3a2-4cd6-8b47-80ff72b6c45c"
      },
      "source": [
        "type(tupp)"
      ],
      "execution_count": 100,
      "outputs": [
        {
          "output_type": "execute_result",
          "data": {
            "text/plain": [
              "tuple"
            ]
          },
          "metadata": {
            "tags": []
          },
          "execution_count": 100
        }
      ]
    },
    {
      "cell_type": "code",
      "metadata": {
        "id": "3Ro-As4Wes4M",
        "colab_type": "code",
        "colab": {
          "base_uri": "https://localhost:8080/",
          "height": 34
        },
        "outputId": "64a32384-0b9d-4a72-9d2a-eab7d2b85294"
      },
      "source": [
        "tupp.index(77)"
      ],
      "execution_count": 106,
      "outputs": [
        {
          "output_type": "execute_result",
          "data": {
            "text/plain": [
              "6"
            ]
          },
          "metadata": {
            "tags": []
          },
          "execution_count": 106
        }
      ]
    },
    {
      "cell_type": "code",
      "metadata": {
        "id": "ZXuDmBxQfSrM",
        "colab_type": "code",
        "colab": {
          "base_uri": "https://localhost:8080/",
          "height": 34
        },
        "outputId": "e4eb17a9-e545-4d0f-df8a-2f4a885e61c7"
      },
      "source": [
        "True "
      ],
      "execution_count": 107,
      "outputs": [
        {
          "output_type": "execute_result",
          "data": {
            "text/plain": [
              "True"
            ]
          },
          "metadata": {
            "tags": []
          },
          "execution_count": 107
        }
      ]
    },
    {
      "cell_type": "code",
      "metadata": {
        "id": "uaU82V-nfU_a",
        "colab_type": "code",
        "colab": {
          "base_uri": "https://localhost:8080/",
          "height": 34
        },
        "outputId": "30174edd-44fd-4d2b-d201-e73e3424c3dc"
      },
      "source": [
        "False"
      ],
      "execution_count": 108,
      "outputs": [
        {
          "output_type": "execute_result",
          "data": {
            "text/plain": [
              "False"
            ]
          },
          "metadata": {
            "tags": []
          },
          "execution_count": 108
        }
      ]
    },
    {
      "cell_type": "markdown",
      "metadata": {
        "id": "ZUowczBXfaMq",
        "colab_type": "text"
      },
      "source": [
        "#  **String & default methods**\n",
        "\n",
        "Strings, are just the array of char, in our programming langauge, so that we can store anykind of messages"
      ]
    },
    {
      "cell_type": "code",
      "metadata": {
        "id": "nmn8Ot8ifkn2",
        "colab_type": "code",
        "colab": {}
      },
      "source": [
        "# Eg.\n",
        "\n",
        "s =\"Hello world\""
      ],
      "execution_count": 0,
      "outputs": []
    },
    {
      "cell_type": "code",
      "metadata": {
        "id": "RzIWMGQqfuJ3",
        "colab_type": "code",
        "colab": {
          "base_uri": "https://localhost:8080/",
          "height": 34
        },
        "outputId": "6b68faca-9a2a-44ad-c39e-309e044e7131"
      },
      "source": [
        "type(s)"
      ],
      "execution_count": 110,
      "outputs": [
        {
          "output_type": "execute_result",
          "data": {
            "text/plain": [
              "str"
            ]
          },
          "metadata": {
            "tags": []
          },
          "execution_count": 110
        }
      ]
    },
    {
      "cell_type": "markdown",
      "metadata": {
        "id": "rpTop3_0gk8J",
        "colab_type": "text"
      },
      "source": [
        "## **String default methods**\n",
        "\n",
        "* String capitalize() -Converts first character to Capital Letter\n",
        "* String center()-Pads string with specified character\n",
        "* String count()-returns occurrences of substring in string\n",
        "* String endswith()-Checks if String Ends with the Specified Suffix\n",
        "* String expandtabs()-Replaces Tab character With Spaces\n",
        "* String encode()-returns encoded string of given string\n",
        "* String format()-formats string into nicer output\n",
        "* String index()-Returns Index of Substring\n",
        "* String isdecimal()-Checks Decimal Characters\n",
        "* String isdigit()-Checks Digit Characters\n",
        "* String isidentifier()-Checks for Valid Identifier\n",
        "* String islower()-Checks if all Alphabets in a String are Lowercase\n",
        "* String isnumeric()-Checks Numeric Characters\n",
        "* String isprintable()-Checks Printable Character"
      ]
    },
    {
      "cell_type": "code",
      "metadata": {
        "id": "z8pZL8FogmuJ",
        "colab_type": "code",
        "colab": {
          "base_uri": "https://localhost:8080/",
          "height": 34
        },
        "outputId": "3233526a-0d21-4877-c8b9-cd4a42fc1e1c"
      },
      "source": [
        "s.islower()"
      ],
      "execution_count": 112,
      "outputs": [
        {
          "output_type": "execute_result",
          "data": {
            "text/plain": [
              "False"
            ]
          },
          "metadata": {
            "tags": []
          },
          "execution_count": 112
        }
      ]
    },
    {
      "cell_type": "code",
      "metadata": {
        "id": "zK4RDlANhKGQ",
        "colab_type": "code",
        "colab": {
          "base_uri": "https://localhost:8080/",
          "height": 34
        },
        "outputId": "0bbde5a7-ac52-43a3-d699-1a22673a4e73"
      },
      "source": [
        "s"
      ],
      "execution_count": 113,
      "outputs": [
        {
          "output_type": "execute_result",
          "data": {
            "text/plain": [
              "'Hello world'"
            ]
          },
          "metadata": {
            "tags": []
          },
          "execution_count": 113
        }
      ]
    },
    {
      "cell_type": "code",
      "metadata": {
        "id": "fB1g0-9MhPjR",
        "colab_type": "code",
        "colab": {
          "base_uri": "https://localhost:8080/",
          "height": 34
        },
        "outputId": "570b545c-0a4f-495c-85da-998c58ed7d07"
      },
      "source": [
        "s.index('o')"
      ],
      "execution_count": 114,
      "outputs": [
        {
          "output_type": "execute_result",
          "data": {
            "text/plain": [
              "4"
            ]
          },
          "metadata": {
            "tags": []
          },
          "execution_count": 114
        }
      ]
    },
    {
      "cell_type": "code",
      "metadata": {
        "id": "mOWPaMeyhUAw",
        "colab_type": "code",
        "colab": {
          "base_uri": "https://localhost:8080/",
          "height": 34
        },
        "outputId": "5bd23f59-9cca-43f9-df2c-0c3a92b5c0b7"
      },
      "source": [
        "s.upper()"
      ],
      "execution_count": 115,
      "outputs": [
        {
          "output_type": "execute_result",
          "data": {
            "text/plain": [
              "'HELLO WORLD'"
            ]
          },
          "metadata": {
            "tags": []
          },
          "execution_count": 115
        }
      ]
    },
    {
      "cell_type": "code",
      "metadata": {
        "id": "j-cR0WXVhXEC",
        "colab_type": "code",
        "colab": {
          "base_uri": "https://localhost:8080/",
          "height": 34
        },
        "outputId": "83d521a3-a7f7-48e8-d8ca-580d122ac570"
      },
      "source": [
        "s.title()"
      ],
      "execution_count": 116,
      "outputs": [
        {
          "output_type": "execute_result",
          "data": {
            "text/plain": [
              "'Hello World'"
            ]
          },
          "metadata": {
            "tags": []
          },
          "execution_count": 116
        }
      ]
    },
    {
      "cell_type": "code",
      "metadata": {
        "id": "G0Tvem8ThY1k",
        "colab_type": "code",
        "colab": {
          "base_uri": "https://localhost:8080/",
          "height": 34
        },
        "outputId": "0ac554e1-3620-468d-b509-8d1ba40ed8d7"
      },
      "source": [
        "s[8]"
      ],
      "execution_count": 117,
      "outputs": [
        {
          "output_type": "execute_result",
          "data": {
            "text/plain": [
              "'r'"
            ]
          },
          "metadata": {
            "tags": []
          },
          "execution_count": 117
        }
      ]
    },
    {
      "cell_type": "code",
      "metadata": {
        "id": "-Y30wf3iham7",
        "colab_type": "code",
        "colab": {
          "base_uri": "https://localhost:8080/",
          "height": 34
        },
        "outputId": "44521ab3-c816-4e53-aeb7-6fc5f9bf23d2"
      },
      "source": [
        "s[-1]"
      ],
      "execution_count": 118,
      "outputs": [
        {
          "output_type": "execute_result",
          "data": {
            "text/plain": [
              "'d'"
            ]
          },
          "metadata": {
            "tags": []
          },
          "execution_count": 118
        }
      ]
    },
    {
      "cell_type": "code",
      "metadata": {
        "id": "yVJDEhSEhdEL",
        "colab_type": "code",
        "colab": {
          "base_uri": "https://localhost:8080/",
          "height": 34
        },
        "outputId": "3ace3271-3949-4c84-b5e6-a6175379fad0"
      },
      "source": [
        "s.capitalize()"
      ],
      "execution_count": 120,
      "outputs": [
        {
          "output_type": "execute_result",
          "data": {
            "text/plain": [
              "'Hello world'"
            ]
          },
          "metadata": {
            "tags": []
          },
          "execution_count": 120
        }
      ]
    },
    {
      "cell_type": "code",
      "metadata": {
        "id": "9a8Z8_Y1iRYO",
        "colab_type": "code",
        "colab": {
          "base_uri": "https://localhost:8080/",
          "height": 34
        },
        "outputId": "61e2fafa-d565-48b7-f1e5-7cf0eca3aee2"
      },
      "source": [
        "s.isdigit()"
      ],
      "execution_count": 121,
      "outputs": [
        {
          "output_type": "execute_result",
          "data": {
            "text/plain": [
              "False"
            ]
          },
          "metadata": {
            "tags": []
          },
          "execution_count": 121
        }
      ]
    },
    {
      "cell_type": "markdown",
      "metadata": {
        "id": "am8cggLoibQ2",
        "colab_type": "text"
      },
      "source": [
        "### **Thank You :)**\n",
        "\n",
        "### **Bhargav Joshi**"
      ]
    }
  ]
}